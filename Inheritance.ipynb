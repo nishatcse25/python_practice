{
  "nbformat": 4,
  "nbformat_minor": 0,
  "metadata": {
    "colab": {
      "name": " Inheritance.ipynb",
      "provenance": [],
      "authorship_tag": "ABX9TyMNy99p9FADLMZo9JgcLmd2",
      "include_colab_link": true
    },
    "kernelspec": {
      "name": "python3",
      "display_name": "Python 3"
    }
  },
  "cells": [
    {
      "cell_type": "markdown",
      "metadata": {
        "id": "view-in-github",
        "colab_type": "text"
      },
      "source": [
        "<a href=\"https://colab.research.google.com/github/nishatcse25/python_practice/blob/main/Inheritance.ipynb\" target=\"_parent\"><img src=\"https://colab.research.google.com/assets/colab-badge.svg\" alt=\"Open In Colab\"/></a>"
      ]
    },
    {
      "cell_type": "code",
      "metadata": {
        "colab": {
          "base_uri": "https://localhost:8080/"
        },
        "id": "eN5puWkBERpw",
        "outputId": "ee873df7-3386-4080-ef89-2dc4ca2fd6c1"
      },
      "source": [
        "class Person:\r\n",
        "  def __init__(self,fname,lname):\r\n",
        "    self.fname = fname\r\n",
        "    self.lname = lname\r\n",
        "  \r\n",
        "  def printInfo(self):\r\n",
        "    print(\"I am a person.\")\r\n",
        "    print(\"My info is:\",self.fname,self.lname,end=\" \")\r\n",
        "\r\n",
        "\r\n",
        "nishat = Person(\"Nishat\",\"CSE\")\r\n",
        "nishat.printInfo()"
      ],
      "execution_count": 2,
      "outputs": [
        {
          "output_type": "stream",
          "text": [
            "I am a person.\n",
            "My info is: Nishat CSE "
          ],
          "name": "stdout"
        }
      ]
    }
  ]
}