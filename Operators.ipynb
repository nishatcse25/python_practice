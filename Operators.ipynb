{
  "nbformat": 4,
  "nbformat_minor": 0,
  "metadata": {
    "colab": {
      "name": "Operators.ipynb",
      "provenance": [],
      "authorship_tag": "ABX9TyMqRxwTvUASctvHB4MqgLbX",
      "include_colab_link": true
    },
    "kernelspec": {
      "name": "python3",
      "display_name": "Python 3"
    }
  },
  "cells": [
    {
      "cell_type": "markdown",
      "metadata": {
        "id": "view-in-github",
        "colab_type": "text"
      },
      "source": [
        "<a href=\"https://colab.research.google.com/github/nishatcse25/python_practice/blob/main/Operators.ipynb\" target=\"_parent\"><img src=\"https://colab.research.google.com/assets/colab-badge.svg\" alt=\"Open In Colab\"/></a>"
      ]
    },
    {
      "cell_type": "code",
      "metadata": {
        "colab": {
          "base_uri": "https://localhost:8080/"
        },
        "id": "9Rp9Tt1-keE8",
        "outputId": "3bd933d1-1009-447a-af14-1178cb7c4f14"
      },
      "source": [
        "a = True\r\n",
        "b = False\r\n",
        "\r\n",
        "print(a and b)\r\n",
        "print(a or b)\r\n",
        "print(not a)\r\n",
        "\r\n",
        "if a and b:\r\n",
        "  print(\"True\")\r\n",
        "else :\r\n",
        "  print(\"False\")\r\n",
        "\r\n",
        "if a or b:\r\n",
        "  print(\"True\")\r\n",
        "else :\r\n",
        "  print(\"False\")\r\n",
        "\r\n",
        "if not a:\r\n",
        "  print(\"True\")\r\n",
        "else :\r\n",
        "  print(\"False\")  "
      ],
      "execution_count": 1,
      "outputs": [
        {
          "output_type": "stream",
          "text": [
            "False\n",
            "True\n",
            "False\n",
            "False\n",
            "True\n",
            "False\n"
          ],
          "name": "stdout"
        }
      ]
    }
  ]
}