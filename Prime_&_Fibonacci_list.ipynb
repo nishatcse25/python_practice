{
  "nbformat": 4,
  "nbformat_minor": 0,
  "metadata": {
    "colab": {
      "name": "Prime & Fibonacci list.ipynb",
      "provenance": [],
      "authorship_tag": "ABX9TyMpZCsPNdS7bVjAjlUEiSyC",
      "include_colab_link": true
    },
    "kernelspec": {
      "name": "python3",
      "display_name": "Python 3"
    }
  },
  "cells": [
    {
      "cell_type": "markdown",
      "metadata": {
        "id": "view-in-github",
        "colab_type": "text"
      },
      "source": [
        "<a href=\"https://colab.research.google.com/github/nishatcse25/python_practice/blob/main/Prime_%26_Fibonacci_list.ipynb\" target=\"_parent\"><img src=\"https://colab.research.google.com/assets/colab-badge.svg\" alt=\"Open In Colab\"/></a>"
      ]
    },
    {
      "cell_type": "code",
      "metadata": {
        "colab": {
          "base_uri": "https://localhost:8080/"
        },
        "id": "glZiQGPbGiJS",
        "outputId": "ec15a0a6-99c0-4391-822e-38f43d314857"
      },
      "source": [
        "primelist = [2,3,5,7,11,13,17,19]\r\n",
        "fibonaccilist = [0,1,1,2,3,5,8,13]\r\n",
        "a = int(input())\r\n",
        "\r\n",
        "if a in primelist :\r\n",
        "  print (\"Prime List\")\r\n",
        "\r\n",
        "elif a in fibonaccilist :\r\n",
        "  print (\"Fibonassi List\")\r\n",
        "\r\n",
        "\r\n",
        "elif a in primelist and fibonaccilist :\r\n",
        "  print (\"Both\")\r\n",
        "\r\n",
        "else   :\r\n",
        "  print(\"Out of Range\")"
      ],
      "execution_count": 7,
      "outputs": [
        {
          "output_type": "stream",
          "text": [
            "30\n",
            "Out of Range\n"
          ],
          "name": "stdout"
        }
      ]
    },
    {
      "cell_type": "code",
      "metadata": {
        "id": "R74LFcmRLT8b"
      },
      "source": [
        ""
      ],
      "execution_count": null,
      "outputs": []
    }
  ]
}