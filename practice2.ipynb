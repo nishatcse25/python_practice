{
  "nbformat": 4,
  "nbformat_minor": 0,
  "metadata": {
    "colab": {
      "name": "Untitled2.ipynb",
      "provenance": [],
      "authorship_tag": "ABX9TyMNJGK9sFpRPC9ox+C+Ho1Q",
      "include_colab_link": true
    },
    "kernelspec": {
      "name": "python3",
      "display_name": "Python 3"
    }
  },
  "cells": [
    {
      "cell_type": "markdown",
      "metadata": {
        "id": "view-in-github",
        "colab_type": "text"
      },
      "source": [
        "<a href=\"https://colab.research.google.com/github/nishatcse25/python_practice/blob/main/practice2.ipynb\" target=\"_parent\"><img src=\"https://colab.research.google.com/assets/colab-badge.svg\" alt=\"Open In Colab\"/></a>"
      ]
    },
    {
      "cell_type": "code",
      "metadata": {
        "colab": {
          "base_uri": "https://localhost:8080/"
        },
        "id": "kJvMRZEuYt9r",
        "outputId": "983cdd2f-e549-4318-8188-e9a04b692a1a"
      },
      "source": [
        "print(\"Nishat Shahrin\")\r\n",
        "print(\"I am studying in 3-1\")\r\n",
        "print (\"University of Asia Pacific\")\r\n"
      ],
      "execution_count": 2,
      "outputs": [
        {
          "output_type": "stream",
          "text": [
            "Nishat Shahrin\n",
            "I am studying in 3-1\n",
            "University of Asia Pacific\n"
          ],
          "name": "stdout"
        }
      ]
    },
    {
      "cell_type": "code",
      "metadata": {
        "colab": {
          "base_uri": "https://localhost:8080/"
        },
        "id": "bE2dkq8oZo0F",
        "outputId": "2fcf466c-f7ec-4ab6-ac35-d0deb506de9f"
      },
      "source": [
        "a=25\r\n",
        "if a==25 :\r\n",
        "  print(\"True\")\r\n",
        "else  :\r\n",
        "  print(\"False\")"
      ],
      "execution_count": 8,
      "outputs": [
        {
          "output_type": "stream",
          "text": [
            "True\n"
          ],
          "name": "stdout"
        }
      ]
    },
    {
      "cell_type": "code",
      "metadata": {
        "colab": {
          "base_uri": "https://localhost:8080/"
        },
        "id": "7ov622OkZ7Ha",
        "outputId": "2321c19d-fbb0-4b77-93df-c299411324e6"
      },
      "source": [
        "a=10\r\n",
        "b=20.30\r\n",
        "print(type(a))\r\n",
        "print(type(b))"
      ],
      "execution_count": 14,
      "outputs": [
        {
          "output_type": "stream",
          "text": [
            "<class 'int'>\n",
            "<class 'float'>\n"
          ],
          "name": "stdout"
        }
      ]
    }
  ]
}