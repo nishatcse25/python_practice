{
  "nbformat": 4,
  "nbformat_minor": 0,
  "metadata": {
    "colab": {
      "name": "practice 3 - Variable Types.ipynb",
      "provenance": [],
      "authorship_tag": "ABX9TyPeEGeSl3LRUUE4qEoiMOKe",
      "include_colab_link": true
    },
    "kernelspec": {
      "name": "python3",
      "display_name": "Python 3"
    }
  },
  "cells": [
    {
      "cell_type": "markdown",
      "metadata": {
        "id": "view-in-github",
        "colab_type": "text"
      },
      "source": [
        "<a href=\"https://colab.research.google.com/github/nishatcse25/python_practice/blob/main/practice_3_Variable_Types.ipynb\" target=\"_parent\"><img src=\"https://colab.research.google.com/assets/colab-badge.svg\" alt=\"Open In Colab\"/></a>"
      ]
    },
    {
      "cell_type": "code",
      "metadata": {
        "colab": {
          "base_uri": "https://localhost:8080/"
        },
        "id": "VOKIHq8w3xKQ",
        "outputId": "023951b0-5172-4b9a-9931-1e2b4aa38a09"
      },
      "source": [
        "# Assign values\r\n",
        "\r\n",
        "a = 10\r\n",
        "b = 20.2\r\n",
        "c = \"ab\"\r\n",
        "\r\n",
        "print(a)\r\n",
        "print(b)\r\n",
        "print(c)\r\n",
        "print(type(c))\r\n",
        "\r\n",
        "c = 30\r\n",
        "print(c)\r\n",
        "print(type(c))"
      ],
      "execution_count": 1,
      "outputs": [
        {
          "output_type": "stream",
          "text": [
            "10\n",
            "20.2\n",
            "ab\n",
            "<class 'str'>\n",
            "30\n",
            "<class 'int'>\n"
          ],
          "name": "stdout"
        }
      ]
    },
    {
      "cell_type": "code",
      "metadata": {
        "colab": {
          "base_uri": "https://localhost:8080/"
        },
        "id": "IlRLcD3y6Ftj",
        "outputId": "8c12b16f-5ced-4121-992d-2b7cc0f6415b"
      },
      "source": [
        "# multiple assign\r\n",
        "\r\n",
        "a,b,c = 10,20.2,\"ab\"\r\n",
        "print(a)\r\n",
        "print(b)\r\n",
        "print(c)\r\n",
        "# print(a+b+c)  # error\r\n",
        "\r\n",
        "c,c = \"ab\" , 30\r\n",
        "\r\n",
        "print(c)\r\n",
        "\r\n",
        "print(a>b)\r\n",
        "\r\n",
        "\r\n",
        "print(a,b,c)\r\n",
        "print(str(a)+str(b)+str(c))\r\n",
        "print(a+b+c)\r\n",
        "\r\n",
        "e = input()\r\n",
        "f = input()\r\n",
        "g = input()\r\n",
        "\r\n",
        "print(type(e))\r\n",
        "print(type(f))\r\n",
        "print(type(g))\r\n",
        "\r\n",
        "e = int(input())\r\n",
        "f = float(input())\r\n",
        "g = input()\r\n",
        "\r\n",
        "print(type(e))\r\n",
        "print(type(f))\r\n",
        "print(type(g))"
      ],
      "execution_count": null,
      "outputs": [
        {
          "output_type": "stream",
          "text": [
            "10\n",
            "20.2\n",
            "ab\n",
            "30\n",
            "False\n",
            "10 20.2 30\n",
            "1020.230\n",
            "60.2\n",
            "25\n",
            "13\n",
            "24\n",
            "<class 'str'>\n",
            "<class 'str'>\n",
            "<class 'str'>\n"
          ],
          "name": "stdout"
        }
      ]
    }
  ]
}