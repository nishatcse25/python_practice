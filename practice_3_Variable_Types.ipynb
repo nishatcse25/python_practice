{
  "nbformat": 4,
  "nbformat_minor": 0,
  "metadata": {
    "colab": {
      "name": "practice 3 - Variable Types.ipynb",
      "provenance": [],
      "authorship_tag": "ABX9TyPBVqErEN6IfsaEX3+6RVEz",
      "include_colab_link": true
    },
    "kernelspec": {
      "name": "python3",
      "display_name": "Python 3"
    }
  },
  "cells": [
    {
      "cell_type": "markdown",
      "metadata": {
        "id": "view-in-github",
        "colab_type": "text"
      },
      "source": [
        "<a href=\"https://colab.research.google.com/github/nishatcse25/python_practice/blob/main/practice_3_Variable_Types.ipynb\" target=\"_parent\"><img src=\"https://colab.research.google.com/assets/colab-badge.svg\" alt=\"Open In Colab\"/></a>"
      ]
    },
    {
      "cell_type": "code",
      "metadata": {
        "colab": {
          "base_uri": "https://localhost:8080/"
        },
        "id": "VOKIHq8w3xKQ",
        "outputId": "023951b0-5172-4b9a-9931-1e2b4aa38a09"
      },
      "source": [
        "# Assign values\r\n",
        "\r\n",
        "a = 10\r\n",
        "b = 20.2\r\n",
        "c = \"ab\"\r\n",
        "\r\n",
        "print(a)\r\n",
        "print(b)\r\n",
        "print(c)\r\n",
        "print(type(c))\r\n",
        "\r\n",
        "c = 30\r\n",
        "print(c)\r\n",
        "print(type(c))"
      ],
      "execution_count": 1,
      "outputs": [
        {
          "output_type": "stream",
          "text": [
            "10\n",
            "20.2\n",
            "ab\n",
            "<class 'str'>\n",
            "30\n",
            "<class 'int'>\n"
          ],
          "name": "stdout"
        }
      ]
    }
  ]
}